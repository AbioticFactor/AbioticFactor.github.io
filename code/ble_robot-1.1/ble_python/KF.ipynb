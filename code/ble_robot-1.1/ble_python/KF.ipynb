{
 "cells": [
  {
   "cell_type": "code",
   "execution_count": null,
   "metadata": {
    "tags": []
   },
   "outputs": [],
   "source": [
    "%load_ext autoreload\n",
    "%autoreload 2\n",
    "\n",
    "from ble import get_ble_controller\n",
    "from base_ble import LOG\n",
    "from cmd_types import CMD\n",
    "import numpy as np\n",
    "import matplotlib.pyplot as plt\n",
    "\n",
    "\n",
    "LOG.propagate = False"
   ]
  },
  {
   "cell_type": "code",
   "execution_count": null,
   "metadata": {
    "tags": []
   },
   "outputs": [],
   "source": [
    "# Get ArtemisBLEController object\n",
    "ble = get_ble_controller()\n",
    "\n",
    "# Connect to the Artemis Device\n",
    "ble.connect()"
   ]
  },
  {
   "cell_type": "code",
   "execution_count": null,
   "metadata": {
    "tags": []
   },
   "outputs": [],
   "source": [
    "# DRIVE AT WALL\n",
    "incoming_data = []\n",
    "time = []\n",
    "distance = []\n",
    "speed = []\n",
    "data = []\n",
    "def wall_drive(uiud, byte_arr):\n",
    "    # variables\n",
    "    global incoming_data\n",
    "    global data\n",
    "    global time\n",
    "    global distance\n",
    "    global speed\n",
    "    \n",
    "    # handle incoming data\n",
    "    incoming_data = ble.bytearray_to_string(byte_arr)\n",
    "    data.append(incoming_data)\n",
    "    \n",
    "    #indexes\n",
    "    time_start = incoming_data.index('T')+2\n",
    "    time_end = incoming_data.index('S')-1\n",
    "    speed_start = time_end + 3\n",
    "    speed_end = incoming_data.index('D')-1\n",
    "    distance_start = speed_end + 3\n",
    "    \n",
    "    # create new arrays\n",
    "    time.append(float(incoming_data[time_start:time_end]))\n",
    "    speed.append(float(incoming_data[speed_start:speed_end]))\n",
    "    distance.append(float(incoming_data[distance_start:]))\n",
    "    \n",
    "\n",
    "   \n",
    "ble.start_notify(ble.uuid['RX_STRING'], wall_drive)\n",
    "ble.send_command(CMD.DRIVE_AT_WALL, \"\")\n",
    "\n"
   ]
  },
  {
   "cell_type": "code",
   "execution_count": null,
   "metadata": {
    "tags": []
   },
   "outputs": [],
   "source": [
    "#PLOT DATA\n",
    "\n",
    "# # Scale distances down\n",
    "# for idx in range(len(distance)):\n",
    "#         distance[idx] = distance[idx]/1000 \n",
    "        \n",
    "# Make velocity data\n",
    "velocity = [0]\n",
    "velocity_time = []\n",
    "smooth = 0\n",
    "for idx in range(len(time)):\n",
    "    if(idx > 0 and smooth == 3):\n",
    "        velocity.append((distance[idx] - distance[idx-2]) / (time[idx] - time[idx - 2])) \n",
    "        velocity_time.append(time[idx])\n",
    "        smooth = 0\n",
    "    smooth += 1\n",
    "\n",
    "print(time)\n",
    "print(distance)\n",
    "print(velocity)\n",
    "\n",
    "#Distance \n",
    "plt.plot (time[1:len(time)-2], distance[1:len(distance)-2])\n",
    "plt.xticks(np.arange(min(time), max(time), 750))\n",
    "plt.yticks(np.arange(min(distance), max(distance), 100))\n",
    "\n",
    "plt.title ('Distance vs Time')\n",
    "plt.xlabel ('Time')\n",
    "plt.ylabel ('Distance')\n",
    "plt.show()\n",
    "\n",
    "# # Speed\n",
    "# plt.plot (time [0:], speed [0:])\n",
    "\n",
    "# plt.title ('Speed vs Time')\n",
    "# plt.xlabel ('Time')\n",
    "# plt.ylabel ('Speed')\n",
    "# plt.show()\n",
    "\n",
    "# Velocity\n",
    "plt.plot (velocity_time [0:], velocity [0:])\n",
    "plt.title ('Velocity vs Time')\n",
    "plt.xlabel ('Time')\n",
    "plt.ylabel ('Velocity')\n",
    "plt.show()\n",
    "\n",
    "\n",
    "ble.stop_notify(ble.uuid['RX_STRING'])\n",
    "\n",
    "\n"
   ]
  },
  {
   "cell_type": "code",
   "execution_count": null,
   "metadata": {
    "tags": []
   },
   "outputs": [],
   "source": [
    "ble.stop_notify(ble.uuid['RX_STRING'])"
   ]
  },
  {
   "cell_type": "code",
   "execution_count": null,
   "metadata": {},
   "outputs": [],
   "source": [
    "ble.disconnect()"
   ]
  },
  {
   "cell_type": "code",
   "execution_count": null,
   "metadata": {},
   "outputs": [],
   "source": []
  }
 ],
 "metadata": {
  "kernelspec": {
   "display_name": "Python 3 (ipykernel)",
   "language": "python",
   "name": "python3"
  },
  "language_info": {
   "codemirror_mode": {
    "name": "ipython",
    "version": 3
   },
   "file_extension": ".py",
   "mimetype": "text/x-python",
   "name": "python",
   "nbconvert_exporter": "python",
   "pygments_lexer": "ipython3",
   "version": "3.10.10"
  }
 },
 "nbformat": 4,
 "nbformat_minor": 4
}
